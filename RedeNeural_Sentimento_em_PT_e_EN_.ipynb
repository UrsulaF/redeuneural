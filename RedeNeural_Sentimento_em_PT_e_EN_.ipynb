{
  "cells": [
    {
      "cell_type": "markdown",
      "source": [
        "# **Modelo criado para o curso de Pós Graduação da USP, ICMC, para matéria de redes neurais.**"
      ],
      "metadata": {
        "id": "1GHxUvRwOGGf"
      }
    },
    {
      "cell_type": "markdown",
      "source": [
        "**Contexto:**\n",
        "- Foram utilizados dataset imdb-reviews-pt-br.csv que contém avaliações de filmes realizadas no site IMDB, com textos em português e em inglês. \n",
        "\n",
        "- Explorando Sentence embedding pré-treinado para multiplos idiomas, e avaliar redes neurais comparando-as com relação aos textos em inglês e português."
      ],
      "metadata": {
        "id": "b861QXY8OhYo"
      }
    },
    {
      "cell_type": "markdown",
      "source": [
        "**Especificações:** \n",
        "A arquitetura seguiu as seguintes camadas por orientação da atividade:\n",
        "\n",
        "\n",
        "\n",
        "*  normalização em batch\n",
        "*  densa 256 neurônios, relu\n",
        "*   densa 256 neurônios, relu\n",
        "*   normalização em batch\n",
        "* ativação relu\n",
        "*  dropout 0.25\n",
        "*  densa 1 neurônio, sigmoide\n",
        "\n",
        "\n",
        "\n",
        "\n",
        "\n",
        "\n",
        "\n",
        "\n",
        "\n",
        "\n",
        "\n",
        "\n",
        "\n",
        "\n"
      ],
      "metadata": {
        "id": "dtnO3sbzO1Q2"
      }
    },
    {
      "cell_type": "code",
      "execution_count": null,
      "metadata": {
        "id": "DmNbtOZ30_GJ",
        "colab": {
          "base_uri": "https://localhost:8080/"
        },
        "outputId": "e05ba371-6504-40e7-dabe-0bfc2e31d6dd"
      },
      "outputs": [
        {
          "output_type": "stream",
          "name": "stdout",
          "text": [
            "Looking in indexes: https://pypi.org/simple, https://us-python.pkg.dev/colab-wheels/public/simple/\n",
            "Requirement already satisfied: sentence_transformers in /usr/local/lib/python3.8/dist-packages (2.2.2)\n",
            "Requirement already satisfied: scikit-learn in /usr/local/lib/python3.8/dist-packages (from sentence_transformers) (1.0.2)\n",
            "Requirement already satisfied: scipy in /usr/local/lib/python3.8/dist-packages (from sentence_transformers) (1.7.3)\n",
            "Requirement already satisfied: numpy in /usr/local/lib/python3.8/dist-packages (from sentence_transformers) (1.21.6)\n",
            "Requirement already satisfied: sentencepiece in /usr/local/lib/python3.8/dist-packages (from sentence_transformers) (0.1.97)\n",
            "Requirement already satisfied: huggingface-hub>=0.4.0 in /usr/local/lib/python3.8/dist-packages (from sentence_transformers) (0.11.1)\n",
            "Requirement already satisfied: torchvision in /usr/local/lib/python3.8/dist-packages (from sentence_transformers) (0.13.1+cu113)\n",
            "Requirement already satisfied: tqdm in /usr/local/lib/python3.8/dist-packages (from sentence_transformers) (4.64.1)\n",
            "Requirement already satisfied: transformers<5.0.0,>=4.6.0 in /usr/local/lib/python3.8/dist-packages (from sentence_transformers) (4.25.1)\n",
            "Requirement already satisfied: nltk in /usr/local/lib/python3.8/dist-packages (from sentence_transformers) (3.7)\n",
            "Requirement already satisfied: torch>=1.6.0 in /usr/local/lib/python3.8/dist-packages (from sentence_transformers) (1.12.1+cu113)\n",
            "Requirement already satisfied: filelock in /usr/local/lib/python3.8/dist-packages (from huggingface-hub>=0.4.0->sentence_transformers) (3.8.0)\n",
            "Requirement already satisfied: requests in /usr/local/lib/python3.8/dist-packages (from huggingface-hub>=0.4.0->sentence_transformers) (2.23.0)\n",
            "Requirement already satisfied: pyyaml>=5.1 in /usr/local/lib/python3.8/dist-packages (from huggingface-hub>=0.4.0->sentence_transformers) (6.0)\n",
            "Requirement already satisfied: typing-extensions>=3.7.4.3 in /usr/local/lib/python3.8/dist-packages (from huggingface-hub>=0.4.0->sentence_transformers) (4.1.1)\n",
            "Requirement already satisfied: packaging>=20.9 in /usr/local/lib/python3.8/dist-packages (from huggingface-hub>=0.4.0->sentence_transformers) (21.3)\n",
            "Requirement already satisfied: pyparsing!=3.0.5,>=2.0.2 in /usr/local/lib/python3.8/dist-packages (from packaging>=20.9->huggingface-hub>=0.4.0->sentence_transformers) (3.0.9)\n",
            "Requirement already satisfied: regex!=2019.12.17 in /usr/local/lib/python3.8/dist-packages (from transformers<5.0.0,>=4.6.0->sentence_transformers) (2022.6.2)\n",
            "Requirement already satisfied: tokenizers!=0.11.3,<0.14,>=0.11.1 in /usr/local/lib/python3.8/dist-packages (from transformers<5.0.0,>=4.6.0->sentence_transformers) (0.13.2)\n",
            "Requirement already satisfied: click in /usr/local/lib/python3.8/dist-packages (from nltk->sentence_transformers) (7.1.2)\n",
            "Requirement already satisfied: joblib in /usr/local/lib/python3.8/dist-packages (from nltk->sentence_transformers) (1.2.0)\n",
            "Requirement already satisfied: idna<3,>=2.5 in /usr/local/lib/python3.8/dist-packages (from requests->huggingface-hub>=0.4.0->sentence_transformers) (2.10)\n",
            "Requirement already satisfied: certifi>=2017.4.17 in /usr/local/lib/python3.8/dist-packages (from requests->huggingface-hub>=0.4.0->sentence_transformers) (2022.9.24)\n",
            "Requirement already satisfied: urllib3!=1.25.0,!=1.25.1,<1.26,>=1.21.1 in /usr/local/lib/python3.8/dist-packages (from requests->huggingface-hub>=0.4.0->sentence_transformers) (1.24.3)\n",
            "Requirement already satisfied: chardet<4,>=3.0.2 in /usr/local/lib/python3.8/dist-packages (from requests->huggingface-hub>=0.4.0->sentence_transformers) (3.0.4)\n",
            "Requirement already satisfied: threadpoolctl>=2.0.0 in /usr/local/lib/python3.8/dist-packages (from scikit-learn->sentence_transformers) (3.1.0)\n",
            "Requirement already satisfied: pillow!=8.3.*,>=5.3.0 in /usr/local/lib/python3.8/dist-packages (from torchvision->sentence_transformers) (7.1.2)\n"
          ]
        }
      ],
      "source": [
        "##instalação da biblioteca\n",
        "!pip install sentence_transformers"
      ]
    },
    {
      "cell_type": "code",
      "execution_count": null,
      "metadata": {
        "id": "UOJzPpWiVYj7",
        "scrolled": true
      },
      "outputs": [],
      "source": [
        "import random\n",
        "import numpy as np\n",
        "import pandas as pd\n",
        "import matplotlib.pyplot as plt\n",
        "import tensorflow as tf\n",
        "\n",
        "from numpy.random import seed\n",
        "from tensorflow.random import set_seed\n",
        "from tensorflow import keras\n",
        "from tensorflow.keras import layers\n",
        "from sklearn.model_selection import train_test_split\n",
        "\n",
        "from sentence_transformers import SentenceTransformer"
      ]
    },
    {
      "cell_type": "markdown",
      "metadata": {
        "id": "lsbeoHiobT88"
      },
      "source": [
        "### 2. Carregamento da base"
      ]
    },
    {
      "cell_type": "code",
      "execution_count": null,
      "metadata": {
        "id": "or0t4PXkVYj_",
        "scrolled": true,
        "colab": {
          "base_uri": "https://localhost:8080/"
        },
        "outputId": "6855fa90-9cd9-4bee-a05f-cbfefa105c09"
      },
      "outputs": [
        {
          "output_type": "stream",
          "name": "stderr",
          "text": [
            "/usr/local/lib/python3.8/dist-packages/IPython/core/interactiveshell.py:3326: FutureWarning: The error_bad_lines argument has been deprecated and will be removed in a future version.\n",
            "\n",
            "\n",
            "  exec(code_obj, self.user_global_ns, self.user_ns)\n",
            "Skipping line 25170: unexpected end of data\n"
          ]
        }
      ],
      "source": [
        "# ler base de dados\n",
        "df_model = pd.read_csv(\"/content/imdb-reviews-pt-br.csv\", delimiter=',', engine='python', encoding=\"ISO-8859-1\", error_bad_lines=False)"
      ]
    },
    {
      "cell_type": "code",
      "execution_count": null,
      "metadata": {
        "id": "OCu29sdhbT8_",
        "colab": {
          "base_uri": "https://localhost:8080/",
          "height": 206
        },
        "outputId": "398a7b43-052d-4a27-caca-19fbabda2ca2"
      },
      "outputs": [
        {
          "output_type": "execute_result",
          "data": {
            "text/plain": [
              "   id                                            text_en  \\\n",
              "0   1  Once again Mr. Costner has dragged out a movie...   \n",
              "1   2  This is an example of why the majority of acti...   \n",
              "2   3  First of all I hate those moronic rappers, who...   \n",
              "3   4  Not even the Beatles could write songs everyon...   \n",
              "4   5  Brass pictures movies is not a fitting word fo...   \n",
              "\n",
              "                                             text_pt sentiment  \n",
              "0  Mais uma vez, o Sr. Costner arrumou um filme p...       neg  \n",
              "1  Este Ã© um exemplo do motivo pelo qual a maior...       neg  \n",
              "2  Primeiro de tudo eu odeio esses raps imbecis, ...       neg  \n",
              "3  Nem mesmo os Beatles puderam escrever mÃºsicas...       neg  \n",
              "4  Filmes de fotos de latÃ£o nÃ£o Ã© uma palavra ...       neg  "
            ],
            "text/html": [
              "\n",
              "  <div id=\"df-3ec74700-56a1-4911-b44e-463c5827f6a7\">\n",
              "    <div class=\"colab-df-container\">\n",
              "      <div>\n",
              "<style scoped>\n",
              "    .dataframe tbody tr th:only-of-type {\n",
              "        vertical-align: middle;\n",
              "    }\n",
              "\n",
              "    .dataframe tbody tr th {\n",
              "        vertical-align: top;\n",
              "    }\n",
              "\n",
              "    .dataframe thead th {\n",
              "        text-align: right;\n",
              "    }\n",
              "</style>\n",
              "<table border=\"1\" class=\"dataframe\">\n",
              "  <thead>\n",
              "    <tr style=\"text-align: right;\">\n",
              "      <th></th>\n",
              "      <th>id</th>\n",
              "      <th>text_en</th>\n",
              "      <th>text_pt</th>\n",
              "      <th>sentiment</th>\n",
              "    </tr>\n",
              "  </thead>\n",
              "  <tbody>\n",
              "    <tr>\n",
              "      <th>0</th>\n",
              "      <td>1</td>\n",
              "      <td>Once again Mr. Costner has dragged out a movie...</td>\n",
              "      <td>Mais uma vez, o Sr. Costner arrumou um filme p...</td>\n",
              "      <td>neg</td>\n",
              "    </tr>\n",
              "    <tr>\n",
              "      <th>1</th>\n",
              "      <td>2</td>\n",
              "      <td>This is an example of why the majority of acti...</td>\n",
              "      <td>Este Ã© um exemplo do motivo pelo qual a maior...</td>\n",
              "      <td>neg</td>\n",
              "    </tr>\n",
              "    <tr>\n",
              "      <th>2</th>\n",
              "      <td>3</td>\n",
              "      <td>First of all I hate those moronic rappers, who...</td>\n",
              "      <td>Primeiro de tudo eu odeio esses raps imbecis, ...</td>\n",
              "      <td>neg</td>\n",
              "    </tr>\n",
              "    <tr>\n",
              "      <th>3</th>\n",
              "      <td>4</td>\n",
              "      <td>Not even the Beatles could write songs everyon...</td>\n",
              "      <td>Nem mesmo os Beatles puderam escrever mÃºsicas...</td>\n",
              "      <td>neg</td>\n",
              "    </tr>\n",
              "    <tr>\n",
              "      <th>4</th>\n",
              "      <td>5</td>\n",
              "      <td>Brass pictures movies is not a fitting word fo...</td>\n",
              "      <td>Filmes de fotos de latÃ£o nÃ£o Ã© uma palavra ...</td>\n",
              "      <td>neg</td>\n",
              "    </tr>\n",
              "  </tbody>\n",
              "</table>\n",
              "</div>\n",
              "      <button class=\"colab-df-convert\" onclick=\"convertToInteractive('df-3ec74700-56a1-4911-b44e-463c5827f6a7')\"\n",
              "              title=\"Convert this dataframe to an interactive table.\"\n",
              "              style=\"display:none;\">\n",
              "        \n",
              "  <svg xmlns=\"http://www.w3.org/2000/svg\" height=\"24px\"viewBox=\"0 0 24 24\"\n",
              "       width=\"24px\">\n",
              "    <path d=\"M0 0h24v24H0V0z\" fill=\"none\"/>\n",
              "    <path d=\"M18.56 5.44l.94 2.06.94-2.06 2.06-.94-2.06-.94-.94-2.06-.94 2.06-2.06.94zm-11 1L8.5 8.5l.94-2.06 2.06-.94-2.06-.94L8.5 2.5l-.94 2.06-2.06.94zm10 10l.94 2.06.94-2.06 2.06-.94-2.06-.94-.94-2.06-.94 2.06-2.06.94z\"/><path d=\"M17.41 7.96l-1.37-1.37c-.4-.4-.92-.59-1.43-.59-.52 0-1.04.2-1.43.59L10.3 9.45l-7.72 7.72c-.78.78-.78 2.05 0 2.83L4 21.41c.39.39.9.59 1.41.59.51 0 1.02-.2 1.41-.59l7.78-7.78 2.81-2.81c.8-.78.8-2.07 0-2.86zM5.41 20L4 18.59l7.72-7.72 1.47 1.35L5.41 20z\"/>\n",
              "  </svg>\n",
              "      </button>\n",
              "      \n",
              "  <style>\n",
              "    .colab-df-container {\n",
              "      display:flex;\n",
              "      flex-wrap:wrap;\n",
              "      gap: 12px;\n",
              "    }\n",
              "\n",
              "    .colab-df-convert {\n",
              "      background-color: #E8F0FE;\n",
              "      border: none;\n",
              "      border-radius: 50%;\n",
              "      cursor: pointer;\n",
              "      display: none;\n",
              "      fill: #1967D2;\n",
              "      height: 32px;\n",
              "      padding: 0 0 0 0;\n",
              "      width: 32px;\n",
              "    }\n",
              "\n",
              "    .colab-df-convert:hover {\n",
              "      background-color: #E2EBFA;\n",
              "      box-shadow: 0px 1px 2px rgba(60, 64, 67, 0.3), 0px 1px 3px 1px rgba(60, 64, 67, 0.15);\n",
              "      fill: #174EA6;\n",
              "    }\n",
              "\n",
              "    [theme=dark] .colab-df-convert {\n",
              "      background-color: #3B4455;\n",
              "      fill: #D2E3FC;\n",
              "    }\n",
              "\n",
              "    [theme=dark] .colab-df-convert:hover {\n",
              "      background-color: #434B5C;\n",
              "      box-shadow: 0px 1px 3px 1px rgba(0, 0, 0, 0.15);\n",
              "      filter: drop-shadow(0px 1px 2px rgba(0, 0, 0, 0.3));\n",
              "      fill: #FFFFFF;\n",
              "    }\n",
              "  </style>\n",
              "\n",
              "      <script>\n",
              "        const buttonEl =\n",
              "          document.querySelector('#df-3ec74700-56a1-4911-b44e-463c5827f6a7 button.colab-df-convert');\n",
              "        buttonEl.style.display =\n",
              "          google.colab.kernel.accessAllowed ? 'block' : 'none';\n",
              "\n",
              "        async function convertToInteractive(key) {\n",
              "          const element = document.querySelector('#df-3ec74700-56a1-4911-b44e-463c5827f6a7');\n",
              "          const dataTable =\n",
              "            await google.colab.kernel.invokeFunction('convertToInteractive',\n",
              "                                                     [key], {});\n",
              "          if (!dataTable) return;\n",
              "\n",
              "          const docLinkHtml = 'Like what you see? Visit the ' +\n",
              "            '<a target=\"_blank\" href=https://colab.research.google.com/notebooks/data_table.ipynb>data table notebook</a>'\n",
              "            + ' to learn more about interactive tables.';\n",
              "          element.innerHTML = '';\n",
              "          dataTable['output_type'] = 'display_data';\n",
              "          await google.colab.output.renderOutput(dataTable, element);\n",
              "          const docLink = document.createElement('div');\n",
              "          docLink.innerHTML = docLinkHtml;\n",
              "          element.appendChild(docLink);\n",
              "        }\n",
              "      </script>\n",
              "    </div>\n",
              "  </div>\n",
              "  "
            ]
          },
          "metadata": {},
          "execution_count": 4
        }
      ],
      "source": [
        "df_model.head()"
      ]
    },
    {
      "cell_type": "markdown",
      "metadata": {
        "id": "KDyqw98mbT9B"
      },
      "source": [
        "### 3. Geração dos embeddings\n",
        "\n"
      ]
    },
    {
      "cell_type": "code",
      "source": [
        "model = SentenceTransformer('distiluse-base-multilingual-cased-v2')"
      ],
      "metadata": {
        "id": "mLhLR7TpckJF"
      },
      "execution_count": null,
      "outputs": []
    },
    {
      "cell_type": "code",
      "source": [
        "n_lines = 10000\n",
        "df = df_model.sample(replace = True, n=n_lines)\n",
        "df\n",
        "## trandormando em listas para rodar mais rápido\n",
        "df_pt = df['text_pt'].tolist()\n",
        "df_en = df['text_en'].tolist()\n",
        "clf = df['sentiment']\n",
        "\n",
        "#embeddings\n",
        "\n",
        "emb_pt = model.encode(df_pt, batch_size=8, show_progress_bar=True)\n",
        "emb_en = model.encode(df_en, batch_size=8, show_progress_bar=True)\n",
        "\n",
        "## base treino e teste\n",
        "\n",
        "pt_X_train, pt_X_test, pt_y_train, pt_y_test = train_test_split(emb_pt, clf, train_size=0.85, test_size=0.15)\n",
        "en_X_train, en_X_test, en_y_train, en_y_test = train_test_split(emb_en, clf, train_size=0.85, test_size=0.15)\n",
        "\n",
        "\n",
        "# negativo e positivo\n",
        "en_y_test = en_y_test.map({'neg':0,'pos':1})\n",
        "en_y_train = en_y_train.map({'neg':0,'pos':1})\n",
        "pt_y_test = pt_y_test.map({'neg':0,'pos':1})\n",
        "pt_y_train = pt_y_train.map({'neg':0,'pos':1})"
      ],
      "metadata": {
        "colab": {
          "base_uri": "https://localhost:8080/",
          "height": 81,
          "referenced_widgets": [
            "f987773ba80e49b3a1a18f9bf33ef82b",
            "60e318aefb3845b2acec39133b268b9e",
            "b5e407eb483e40a0876b0394cdf040d1",
            "a2c29a0feca24829a36a5d0e52fd54dd",
            "2678c8eaa3bb4efc8dd167de6f34ac69",
            "92ed2486e2a342ad917d869690ac2aa9",
            "85a3c6473d7a45bc9df663dec9546691",
            "261610ab9f19438db113e22314862208",
            "470ae000684945beb0f47e3013cc66b3",
            "9629f916894a4695add82bbe4e41dc35",
            "baf43b2321624807a7809d1cbeb57f73",
            "42e19879988a4971926f1eecd04247f1",
            "7b6598ba2a204e1d9948f7a626a2c161",
            "cb3da71c8ab6406781ac4f6f658e5bad",
            "f41c523b7a284177b7e00b33b395afc2",
            "e1a3de2fb8644add9c6d01ef1f769e95",
            "c65fee014fb149148df419782149d31d",
            "8bdf3220beb8444a849c841262453360",
            "512b4895555c477eb505788fecad19b4",
            "8569142d876a4a039ff51650ec665691",
            "f737370a41cb4d0c860a0b729fc71f26",
            "8011bbdc589e45818ecbaa2e9b981433"
          ]
        },
        "id": "OAt13LgEgR7t",
        "outputId": "3397560d-b6e6-45d1-bd6f-6b5abab6baf0"
      },
      "execution_count": null,
      "outputs": [
        {
          "output_type": "display_data",
          "data": {
            "text/plain": [
              "Batches:   0%|          | 0/1250 [00:00<?, ?it/s]"
            ],
            "application/vnd.jupyter.widget-view+json": {
              "version_major": 2,
              "version_minor": 0,
              "model_id": "f987773ba80e49b3a1a18f9bf33ef82b"
            }
          },
          "metadata": {}
        },
        {
          "output_type": "display_data",
          "data": {
            "text/plain": [
              "Batches:   0%|          | 0/1250 [00:00<?, ?it/s]"
            ],
            "application/vnd.jupyter.widget-view+json": {
              "version_major": 2,
              "version_minor": 0,
              "model_id": "42e19879988a4971926f1eecd04247f1"
            }
          },
          "metadata": {}
        }
      ]
    },
    {
      "cell_type": "code",
      "source": [
        "##visualizando o embeddings em en\n",
        "print(emb_en.shape)\n",
        "print(emb_en[:10])"
      ],
      "metadata": {
        "colab": {
          "base_uri": "https://localhost:8080/"
        },
        "id": "4HNhc9cfdH3c",
        "outputId": "27ad3463-27fb-4de8-9484-0ba26489b582"
      },
      "execution_count": null,
      "outputs": [
        {
          "output_type": "stream",
          "name": "stdout",
          "text": [
            "(10000, 512)\n",
            "[[-0.01055936 -0.01349783 -0.03031344 ... -0.028143   -0.01086989\n",
            "   0.04195174]\n",
            " [ 0.00298738 -0.00823034 -0.01446948 ...  0.00813925 -0.04364545\n",
            "   0.00120013]\n",
            " [-0.04544121  0.03618135  0.01823004 ...  0.02519811  0.02488993\n",
            "   0.00434661]\n",
            " ...\n",
            " [-0.05329548 -0.0843932  -0.04167342 ... -0.02442601 -0.03897073\n",
            "   0.00353969]\n",
            " [-0.03792619 -0.04442686  0.07192542 ...  0.03369036  0.05246101\n",
            "   0.05590148]\n",
            " [-0.01351899 -0.03701067  0.04262984 ... -0.07553542 -0.01584722\n",
            "  -0.02344592]]\n"
          ]
        }
      ]
    },
    {
      "cell_type": "code",
      "source": [
        "##visualizando o embeddings em pt\n",
        "print(emb_pt.shape)\n",
        "print(emb_pt[:10])"
      ],
      "metadata": {
        "colab": {
          "base_uri": "https://localhost:8080/"
        },
        "id": "Theh8Q7A6fZ2",
        "outputId": "7bcd99ed-cfcd-4ba7-e4d2-4997550ffbbd"
      },
      "execution_count": null,
      "outputs": [
        {
          "output_type": "stream",
          "name": "stdout",
          "text": [
            "(10000, 512)\n",
            "[[-0.02993541 -0.01564427 -0.00873944 ... -0.02084405 -0.03175247\n",
            "   0.02751677]\n",
            " [-0.00527501  0.01627398  0.00502802 ...  0.01127173 -0.07976859\n",
            "   0.0396011 ]\n",
            " [-0.03242599  0.01094793  0.02147505 ...  0.02237262 -0.02391601\n",
            "   0.02004708]\n",
            " ...\n",
            " [-0.03715836 -0.05053546 -0.03103821 ... -0.03956783 -0.05792669\n",
            "   0.01287774]\n",
            " [-0.02843846 -0.0502679   0.05773263 ... -0.000827    0.03740837\n",
            "   0.02295617]\n",
            " [ 0.00270171 -0.03628997  0.00262979 ... -0.03447536 -0.02826474\n",
            "  -0.01186723]]\n"
          ]
        }
      ]
    },
    {
      "cell_type": "markdown",
      "metadata": {
        "id": "ssjGmr7DbT9G"
      },
      "source": [
        "classificador de sentimento em *inglês*"
      ]
    },
    {
      "cell_type": "code",
      "execution_count": null,
      "metadata": {
        "id": "7CSkZBFZVYkD",
        "colab": {
          "base_uri": "https://localhost:8080/"
        },
        "outputId": "fcdc9722-5dc9-4afe-c801-8c3db53dae3d"
      },
      "outputs": [
        {
          "output_type": "stream",
          "name": "stdout",
          "text": [
            "Model: \"sequential\"\n",
            "_________________________________________________________________\n",
            " Layer (type)                Output Shape              Param #   \n",
            "=================================================================\n",
            " batch_normalization (BatchN  (None, 512)              2048      \n",
            " ormalization)                                                   \n",
            "                                                                 \n",
            " dense (Dense)               (None, 256)               131328    \n",
            "                                                                 \n",
            " dense_1 (Dense)             (None, 256)               65792     \n",
            "                                                                 \n",
            " dense_2 (Dense)             (None, 128)               32896     \n",
            "                                                                 \n",
            " batch_normalization_1 (Batc  (None, 128)              512       \n",
            " hNormalization)                                                 \n",
            "                                                                 \n",
            " activation (Activation)     (None, 128)               0         \n",
            "                                                                 \n",
            " dropout (Dropout)           (None, 128)               0         \n",
            "                                                                 \n",
            " dense_3 (Dense)             (None, 1)                 129       \n",
            "                                                                 \n",
            "=================================================================\n",
            "Total params: 232,705\n",
            "Trainable params: 231,425\n",
            "Non-trainable params: 1,280\n",
            "_________________________________________________________________\n"
          ]
        }
      ],
      "source": [
        "## MODELO EM INGLES \n",
        "seed(1)\n",
        "set_seed(1)\n",
        "en_X_train = np.asarray(en_X_train)\n",
        "input_shape = en_X_train.shape[1]\n",
        "\n",
        "modeloEN = keras.Sequential()\n",
        "\n",
        "modeloEN.add(keras.layers.Input(shape= input_shape,))\n",
        "modeloEN.add(keras.layers.BatchNormalization())\n",
        "modeloEN.add(keras.layers.Dense(256, activation= 'relu'))\n",
        "modeloEN.add(keras.layers.Dense(256, activation='relu'))\n",
        "modeloEN.add(keras.layers.Dense(128, activation='linear'))\n",
        "modeloEN.add(keras.layers.BatchNormalization())\n",
        "modeloEN.add(keras.layers.Activation('relu'))\n",
        "modeloEN.add(keras.layers.Dropout(0.25, name = 'dropout'))\n",
        "modeloEN.add(keras.layers.Dense(1, activation='sigmoid'))\n",
        "modeloEN.build(input_shape)\n",
        "modeloEN.summary()"
      ]
    },
    {
      "cell_type": "code",
      "source": [
        "## UTILIZANDO DECAIMENTO \n",
        "from keras.metrics import Precision, Recall, Accuracy\n",
        "tf.keras.backend.clear_session()\n",
        "epochs = 25\n",
        "batch_size = 16\n",
        "\n",
        "##def scheduler(epoch, lr):\n",
        "##    return lr * tf.math.exp(-0.075)\n",
        "\n",
        "##callbacklr = tf.keras.callbacks.LearningRateScheduler(scheduler)\n",
        "\n",
        "def scheduler(epoch, lr):\n",
        "    if epoch <= 0:\n",
        "      return lr\n",
        "    else:\n",
        "      return np.round(lr * tf.math.exp(-0.075),4)\n",
        "\n",
        "callbacklr = tf.keras.callbacks.LearningRateScheduler(scheduler)\n",
        "\n",
        "\n",
        "#compilando o modelo e criando o history\n",
        "\n",
        "modeloEN.compile(loss=keras.losses.BinaryCrossentropy(),\n",
        "                optimizer=keras.optimizers.Adam(learning_rate=0.001),\n",
        "                metrics=[tf.keras.metrics.Precision(), tf.keras.metrics.Recall(), \"accuracy\"])\n",
        "\n",
        "modeloEN_hist = modeloEN.fit(x = en_X_train, y = en_y_train, batch_size=batch_size, epochs=epochs, callbacks=callbacklr)"
      ],
      "metadata": {
        "colab": {
          "base_uri": "https://localhost:8080/"
        },
        "id": "8Jo91oJr7zJt",
        "outputId": "010b3420-26a6-4c6e-eec3-3b1723264cfe"
      },
      "execution_count": null,
      "outputs": [
        {
          "output_type": "stream",
          "name": "stdout",
          "text": [
            "Epoch 1/25\n",
            "532/532 [==============================] - 4s 6ms/step - loss: 0.4955 - precision: 0.7532 - recall: 0.7464 - accuracy: 0.7601 - lr: 0.0010\n",
            "Epoch 2/25\n",
            "532/532 [==============================] - 5s 10ms/step - loss: 0.3695 - precision: 0.8316 - recall: 0.8339 - accuracy: 0.8387 - lr: 9.0000e-04\n",
            "Epoch 3/25\n",
            "532/532 [==============================] - 3s 5ms/step - loss: 0.3084 - precision: 0.8649 - recall: 0.8678 - accuracy: 0.8711 - lr: 8.0000e-04\n",
            "Epoch 4/25\n",
            "532/532 [==============================] - 3s 5ms/step - loss: 0.2391 - precision: 0.8980 - recall: 0.8971 - accuracy: 0.9014 - lr: 7.0000e-04\n",
            "Epoch 5/25\n",
            "532/532 [==============================] - 3s 5ms/step - loss: 0.1814 - precision: 0.9280 - recall: 0.9284 - accuracy: 0.9308 - lr: 6.0000e-04\n",
            "Epoch 6/25\n",
            "532/532 [==============================] - 3s 5ms/step - loss: 0.1346 - precision: 0.9421 - recall: 0.9506 - accuracy: 0.9481 - lr: 6.0000e-04\n",
            "Epoch 7/25\n",
            "532/532 [==============================] - 3s 5ms/step - loss: 0.1077 - precision: 0.9607 - recall: 0.9565 - accuracy: 0.9602 - lr: 6.0000e-04\n",
            "Epoch 8/25\n",
            "532/532 [==============================] - 3s 5ms/step - loss: 0.0955 - precision: 0.9624 - recall: 0.9638 - accuracy: 0.9645 - lr: 6.0000e-04\n",
            "Epoch 9/25\n",
            "532/532 [==============================] - 3s 5ms/step - loss: 0.0897 - precision: 0.9672 - recall: 0.9643 - accuracy: 0.9671 - lr: 6.0000e-04\n",
            "Epoch 10/25\n",
            "532/532 [==============================] - 3s 5ms/step - loss: 0.0852 - precision: 0.9655 - recall: 0.9717 - accuracy: 0.9696 - lr: 6.0000e-04\n",
            "Epoch 11/25\n",
            "532/532 [==============================] - 3s 5ms/step - loss: 0.0729 - precision: 0.9733 - recall: 0.9726 - accuracy: 0.9740 - lr: 6.0000e-04\n",
            "Epoch 12/25\n",
            "532/532 [==============================] - 3s 5ms/step - loss: 0.0664 - precision: 0.9770 - recall: 0.9748 - accuracy: 0.9768 - lr: 6.0000e-04\n",
            "Epoch 13/25\n",
            "532/532 [==============================] - 3s 5ms/step - loss: 0.0629 - precision: 0.9784 - recall: 0.9753 - accuracy: 0.9778 - lr: 6.0000e-04\n",
            "Epoch 14/25\n",
            "532/532 [==============================] - 3s 5ms/step - loss: 0.0762 - precision: 0.9729 - recall: 0.9731 - accuracy: 0.9740 - lr: 6.0000e-04\n",
            "Epoch 15/25\n",
            "532/532 [==============================] - 3s 5ms/step - loss: 0.0619 - precision: 0.9773 - recall: 0.9768 - accuracy: 0.9779 - lr: 6.0000e-04\n",
            "Epoch 16/25\n",
            "532/532 [==============================] - 3s 5ms/step - loss: 0.0666 - precision: 0.9725 - recall: 0.9753 - accuracy: 0.9748 - lr: 6.0000e-04\n",
            "Epoch 17/25\n",
            "532/532 [==============================] - 3s 5ms/step - loss: 0.0488 - precision: 0.9829 - recall: 0.9829 - accuracy: 0.9835 - lr: 6.0000e-04\n",
            "Epoch 18/25\n",
            "532/532 [==============================] - 3s 6ms/step - loss: 0.0638 - precision: 0.9771 - recall: 0.9800 - accuracy: 0.9793 - lr: 6.0000e-04\n",
            "Epoch 19/25\n",
            "532/532 [==============================] - 3s 5ms/step - loss: 0.0624 - precision: 0.9770 - recall: 0.9756 - accuracy: 0.9772 - lr: 6.0000e-04\n",
            "Epoch 20/25\n",
            "532/532 [==============================] - 3s 5ms/step - loss: 0.0406 - precision: 0.9861 - recall: 0.9861 - accuracy: 0.9866 - lr: 6.0000e-04\n",
            "Epoch 21/25\n",
            "532/532 [==============================] - 3s 6ms/step - loss: 0.0513 - precision: 0.9815 - recall: 0.9849 - accuracy: 0.9838 - lr: 6.0000e-04\n",
            "Epoch 22/25\n",
            "532/532 [==============================] - 3s 5ms/step - loss: 0.0517 - precision: 0.9826 - recall: 0.9797 - accuracy: 0.9819 - lr: 6.0000e-04\n",
            "Epoch 23/25\n",
            "532/532 [==============================] - 3s 5ms/step - loss: 0.0357 - precision: 0.9888 - recall: 0.9878 - accuracy: 0.9887 - lr: 6.0000e-04\n",
            "Epoch 24/25\n",
            "532/532 [==============================] - 3s 5ms/step - loss: 0.0486 - precision: 0.9821 - recall: 0.9807 - accuracy: 0.9821 - lr: 6.0000e-04\n",
            "Epoch 25/25\n",
            "532/532 [==============================] - 3s 5ms/step - loss: 0.0549 - precision: 0.9802 - recall: 0.9819 - accuracy: 0.9818 - lr: 6.0000e-04\n"
          ]
        }
      ]
    },
    {
      "cell_type": "markdown",
      "metadata": {
        "id": "T3Pk0IvUVYkI"
      },
      "source": [
        "classificador de sentimento em *português*"
      ]
    },
    {
      "cell_type": "code",
      "execution_count": null,
      "metadata": {
        "id": "wPq9MVqyVYkJ",
        "scrolled": true,
        "colab": {
          "base_uri": "https://localhost:8080/"
        },
        "outputId": "9aa7c2c2-8589-4611-cbd2-b7372026e5ec"
      },
      "outputs": [
        {
          "output_type": "stream",
          "name": "stdout",
          "text": [
            "Model: \"sequential\"\n",
            "_________________________________________________________________\n",
            " Layer (type)                Output Shape              Param #   \n",
            "=================================================================\n",
            " batch_normalization (BatchN  (None, 512)              2048      \n",
            " ormalization)                                                   \n",
            "                                                                 \n",
            " dense (Dense)               (None, 256)               131328    \n",
            "                                                                 \n",
            " dense_1 (Dense)             (None, 256)               65792     \n",
            "                                                                 \n",
            " dense_2 (Dense)             (None, 128)               32896     \n",
            "                                                                 \n",
            " batch_normalization_1 (Batc  (None, 128)              512       \n",
            " hNormalization)                                                 \n",
            "                                                                 \n",
            " activation (Activation)     (None, 128)               0         \n",
            "                                                                 \n",
            " dropout (Dropout)           (None, 128)               0         \n",
            "                                                                 \n",
            " dense_3 (Dense)             (None, 1)                 129       \n",
            "                                                                 \n",
            "=================================================================\n",
            "Total params: 232,705\n",
            "Trainable params: 231,425\n",
            "Non-trainable params: 1,280\n",
            "_________________________________________________________________\n"
          ]
        }
      ],
      "source": [
        "## MODELO EM PORTUGUES\n",
        "seed(1)\n",
        "set_seed(1)\n",
        "pt_X_train = np.asarray(pt_X_train)\n",
        "input_shape = pt_X_train.shape[1]\n",
        "\n",
        "modeloPT = keras.Sequential()\n",
        "\n",
        "modeloPT.add(keras.layers.Input(shape= input_shape,))\n",
        "modeloPT.add(keras.layers.BatchNormalization())\n",
        "modeloPT.add(keras.layers.Dense(256, activation= 'relu'))\n",
        "modeloPT.add(keras.layers.Dense(256, activation='relu'))\n",
        "modeloPT.add(keras.layers.Dense(128, activation='linear'))\n",
        "modeloPT.add(keras.layers.BatchNormalization())\n",
        "modeloPT.add(keras.layers.Activation('relu'))\n",
        "modeloPT.add(keras.layers.Dropout(0.25, name = 'dropout'))\n",
        "modeloPT.add(keras.layers.Dense(1, activation='sigmoid'))\n",
        "modeloPT.build(input_shape)\n",
        "modeloPT.summary()"
      ]
    },
    {
      "cell_type": "code",
      "source": [
        "## UTILIZANDO DECAIMENTO \n",
        "from keras.metrics import Precision, Recall, Accuracy\n",
        "tf.keras.backend.clear_session()\n",
        "epochs = 25\n",
        "batch_size = 16\n",
        "\n",
        "##def scheduler(epoch, lr):\n",
        "##    return lr * tf.math.exp(-0.075)\n",
        "\n",
        "##callbacklr = tf.keras.callbacks.LearningRateScheduler(scheduler)\n",
        "\n",
        "def scheduler(epoch, lr):\n",
        "    if epoch <= 0:\n",
        "      return lr\n",
        "    else:\n",
        "      return np.round(lr * tf.math.exp(-0.075),4)\n",
        "\n",
        "callbacklr = tf.keras.callbacks.LearningRateScheduler(scheduler)\n",
        "\n",
        "\n",
        "## compilando modelo\n",
        "\n",
        "modeloPT.compile(loss=keras.losses.BinaryCrossentropy(),\n",
        "                optimizer=keras.optimizers.Adam(learning_rate=0.001),\n",
        "                metrics=[tf.keras.metrics.Precision(), tf.keras.metrics.Recall(), \"accuracy\"])\n",
        "\n",
        "modeloPT_hist = modeloPT.fit(x = pt_X_train, y = pt_y_train, batch_size=batch_size, epochs=epochs, callbacks=callbacklr)"
      ],
      "metadata": {
        "colab": {
          "base_uri": "https://localhost:8080/"
        },
        "id": "3-BQyzC277_N",
        "outputId": "73a02c43-894e-4466-8a62-b5804a5b3908"
      },
      "execution_count": null,
      "outputs": [
        {
          "output_type": "stream",
          "name": "stdout",
          "text": [
            "Epoch 1/25\n",
            "532/532 [==============================] - 4s 6ms/step - loss: 0.5661 - precision: 0.7131 - recall: 0.6923 - accuracy: 0.7165 - lr: 0.0010\n",
            "Epoch 2/25\n",
            "532/532 [==============================] - 3s 5ms/step - loss: 0.4520 - precision: 0.7822 - recall: 0.7687 - accuracy: 0.7846 - lr: 9.0000e-04\n",
            "Epoch 3/25\n",
            "532/532 [==============================] - 3s 5ms/step - loss: 0.3789 - precision: 0.8249 - recall: 0.8168 - accuracy: 0.8275 - lr: 8.0000e-04\n",
            "Epoch 4/25\n",
            "532/532 [==============================] - 3s 5ms/step - loss: 0.3079 - precision: 0.8649 - recall: 0.8594 - accuracy: 0.8671 - lr: 7.0000e-04\n",
            "Epoch 5/25\n",
            "532/532 [==============================] - 3s 6ms/step - loss: 0.2162 - precision: 0.9094 - recall: 0.9059 - accuracy: 0.9108 - lr: 6.0000e-04\n",
            "Epoch 6/25\n",
            "532/532 [==============================] - 3s 5ms/step - loss: 0.1792 - precision: 0.9262 - recall: 0.9256 - accuracy: 0.9284 - lr: 6.0000e-04\n",
            "Epoch 7/25\n",
            "532/532 [==============================] - 3s 5ms/step - loss: 0.1367 - precision: 0.9467 - recall: 0.9423 - accuracy: 0.9465 - lr: 6.0000e-04\n",
            "Epoch 8/25\n",
            "532/532 [==============================] - 3s 5ms/step - loss: 0.1221 - precision: 0.9539 - recall: 0.9506 - accuracy: 0.9539 - lr: 6.0000e-04\n",
            "Epoch 9/25\n",
            "532/532 [==============================] - 3s 5ms/step - loss: 0.1138 - precision: 0.9547 - recall: 0.9545 - accuracy: 0.9561 - lr: 6.0000e-04\n",
            "Epoch 10/25\n",
            "532/532 [==============================] - 3s 5ms/step - loss: 0.1078 - precision: 0.9605 - recall: 0.9589 - accuracy: 0.9611 - lr: 6.0000e-04\n",
            "Epoch 11/25\n",
            "532/532 [==============================] - 3s 5ms/step - loss: 0.0904 - precision: 0.9659 - recall: 0.9642 - accuracy: 0.9662 - lr: 6.0000e-04\n",
            "Epoch 12/25\n",
            "532/532 [==============================] - 3s 5ms/step - loss: 0.0848 - precision: 0.9680 - recall: 0.9701 - accuracy: 0.9700 - lr: 6.0000e-04\n",
            "Epoch 13/25\n",
            "532/532 [==============================] - 3s 5ms/step - loss: 0.0896 - precision: 0.9662 - recall: 0.9669 - accuracy: 0.9676 - lr: 6.0000e-04\n",
            "Epoch 14/25\n",
            "532/532 [==============================] - 3s 5ms/step - loss: 0.0730 - precision: 0.9746 - recall: 0.9713 - accuracy: 0.9739 - lr: 6.0000e-04\n",
            "Epoch 15/25\n",
            "532/532 [==============================] - 3s 5ms/step - loss: 0.0748 - precision: 0.9718 - recall: 0.9718 - accuracy: 0.9727 - lr: 6.0000e-04\n",
            "Epoch 16/25\n",
            "532/532 [==============================] - 3s 5ms/step - loss: 0.0659 - precision: 0.9771 - recall: 0.9766 - accuracy: 0.9776 - lr: 6.0000e-04\n",
            "Epoch 17/25\n",
            "532/532 [==============================] - 3s 5ms/step - loss: 0.0652 - precision: 0.9766 - recall: 0.9745 - accuracy: 0.9764 - lr: 6.0000e-04\n",
            "Epoch 18/25\n",
            "532/532 [==============================] - 3s 5ms/step - loss: 0.0716 - precision: 0.9737 - recall: 0.9745 - accuracy: 0.9749 - lr: 6.0000e-04\n",
            "Epoch 19/25\n",
            "532/532 [==============================] - 3s 5ms/step - loss: 0.0712 - precision: 0.9735 - recall: 0.9752 - accuracy: 0.9752 - lr: 6.0000e-04\n",
            "Epoch 20/25\n",
            "532/532 [==============================] - 3s 5ms/step - loss: 0.0541 - precision: 0.9803 - recall: 0.9784 - accuracy: 0.9800 - lr: 6.0000e-04\n",
            "Epoch 21/25\n",
            "532/532 [==============================] - 3s 5ms/step - loss: 0.0583 - precision: 0.9786 - recall: 0.9784 - accuracy: 0.9792 - lr: 6.0000e-04\n",
            "Epoch 22/25\n",
            "532/532 [==============================] - 3s 6ms/step - loss: 0.0546 - precision: 0.9815 - recall: 0.9803 - accuracy: 0.9815 - lr: 6.0000e-04\n",
            "Epoch 23/25\n",
            "532/532 [==============================] - 3s 5ms/step - loss: 0.0489 - precision: 0.9799 - recall: 0.9832 - accuracy: 0.9821 - lr: 6.0000e-04\n",
            "Epoch 24/25\n",
            "532/532 [==============================] - 3s 5ms/step - loss: 0.0532 - precision: 0.9827 - recall: 0.9815 - accuracy: 0.9827 - lr: 6.0000e-04\n",
            "Epoch 25/25\n",
            "532/532 [==============================] - 3s 5ms/step - loss: 0.0575 - precision: 0.9804 - recall: 0.9757 - accuracy: 0.9788 - lr: 6.0000e-04\n"
          ]
        }
      ]
    },
    {
      "cell_type": "markdown",
      "metadata": {
        "id": "odoVvi5OVYkL"
      },
      "source": [
        "### Avaliação dos modelos: "
      ]
    },
    {
      "cell_type": "code",
      "execution_count": null,
      "metadata": {
        "id": "5Lvt3C7tVYkL",
        "colab": {
          "base_uri": "https://localhost:8080/"
        },
        "outputId": "f55f4679-90bf-4517-a85d-e0acbe7c21cb"
      },
      "outputs": [
        {
          "output_type": "stream",
          "name": "stdout",
          "text": [
            "47/47 [==============================] - 1s 4ms/step - loss: 0.7964 - precision: 0.8313 - recall: 0.8313 - accuracy: 0.8360\n"
          ]
        },
        {
          "output_type": "execute_result",
          "data": {
            "text/plain": [
              "[0.7964060306549072,\n",
              " 0.8312757015228271,\n",
              " 0.8312757015228271,\n",
              " 0.8360000252723694]"
            ]
          },
          "metadata": {},
          "execution_count": 14
        }
      ],
      "source": [
        "# trazendo as métricas para modelo em ingles\n",
        "modeloEN.evaluate(en_X_test, en_y_test)"
      ]
    },
    {
      "cell_type": "code",
      "source": [
        "# trazendo as métricas para modelo em pt\n",
        "modeloPT.evaluate(pt_X_test, pt_y_test)"
      ],
      "metadata": {
        "colab": {
          "base_uri": "https://localhost:8080/"
        },
        "id": "b_NIvAjV8Lq4",
        "outputId": "8a7cce37-5f2a-497f-8eab-7779985ec94d"
      },
      "execution_count": null,
      "outputs": [
        {
          "output_type": "stream",
          "name": "stdout",
          "text": [
            "47/47 [==============================] - 0s 4ms/step - loss: 0.9648 - precision: 0.7986 - recall: 0.8031 - accuracy: 0.8107\n"
          ]
        },
        {
          "output_type": "execute_result",
          "data": {
            "text/plain": [
              "[0.964755117893219, 0.7986013889312744, 0.803094208240509, 0.8106666803359985]"
            ]
          },
          "metadata": {},
          "execution_count": 15
        }
      ]
    },
    {
      "cell_type": "code",
      "source": [
        "#plotando grafico com a precisao e recall do modelo em ingles\n",
        "plt.plot(modeloEN_hist.history['precision'])\n",
        "plt.plot(modeloEN_hist.history['recall'])\n",
        "plt.legend([\"precision_en\", \"recall_en\", \"precision \", \"recall \"], loc=\"lower right\");"
      ],
      "metadata": {
        "colab": {
          "base_uri": "https://localhost:8080/",
          "height": 269
        },
        "id": "a-fS1KRj8i99",
        "outputId": "e708dc79-70e6-4bcf-93f1-8a5288d72939"
      },
      "execution_count": null,
      "outputs": [
        {
          "output_type": "display_data",
          "data": {
            "text/plain": [
              "<Figure size 432x288 with 1 Axes>"
            ],
            "image/png": "[encoded data removed]"
          },
          "metadata": {
            "needs_background": "light"
          }
        }
      ]
    },
    {
      "cell_type": "code",
      "source": [
        "#plotando grafico com a precisao e recall do modelo em pt\n",
        "plt.plot(modeloPT_hist.history['precision'])\n",
        "plt.plot(modeloPT_hist.history['recall'])\n",
        "plt.legend([\"precision_pt\", \"recall_pt\", \"precision \", \"recall \"], loc=\"lower right\");"
      ],
      "metadata": {
        "colab": {
          "base_uri": "https://localhost:8080/",
          "height": 265
        },
        "id": "qOOgP1nQoqvu",
        "outputId": "275cb2f3-8e57-42fb-a30f-d98f8dd59078"
      },
      "execution_count": null,
      "outputs": [
        {
          "output_type": "display_data",
          "data": {
            "text/plain": [
              "<Figure size 432x288 with 1 Axes>"
            ],
            "image/png": "[encoded data removed]"
          },
          "metadata": {
            "needs_background": "light"
          }
        }
      ]
    },
    {
      "cell_type": "code",
      "source": [
        "#grafico com a perda do modelo em ingles\n",
        "from keras.metrics import Precision, Recall, Accuracy  \n",
        "plt.title('Loss')\n",
        "plt.plot(modeloEN_hist.history['loss'], label = 'train')\n",
        "plt.legend"
      ],
      "metadata": {
        "colab": {
          "base_uri": "https://localhost:8080/",
          "height": 298
        },
        "id": "M6C8yb2d9KvO",
        "outputId": "0346b179-3d13-441f-d504-4c844af26f8a"
      },
      "execution_count": null,
      "outputs": [
        {
          "output_type": "execute_result",
          "data": {
            "text/plain": [
              "<function matplotlib.pyplot.legend(*args, **kwargs)>"
            ]
          },
          "metadata": {},
          "execution_count": 18
        },
        {
          "output_type": "display_data",
          "data": {
            "text/plain": [
              "<Figure size 432x288 with 1 Axes>"
            ],
            "image/png": "[encoded data removed]"
          },
          "metadata": {
            "needs_background": "light"
          }
        }
      ]
    },
    {
      "cell_type": "code",
      "source": [
        "## grafico com a perda do modelo em portugues\n",
        "from keras.metrics import Precision, Recall, Accuracy  \n",
        "plt.title('Loss')\n",
        "plt.plot(modeloPT_hist.history['loss'], label = 'train')\n",
        "plt.legend"
      ],
      "metadata": {
        "colab": {
          "base_uri": "https://localhost:8080/",
          "height": 298
        },
        "id": "C0qkIK4ZoyS3",
        "outputId": "1886c24a-e3b7-4224-8083-ced8af5b85f0"
      },
      "execution_count": null,
      "outputs": [
        {
          "output_type": "execute_result",
          "data": {
            "text/plain": [
              "<function matplotlib.pyplot.legend(*args, **kwargs)>"
            ]
          },
          "metadata": {},
          "execution_count": 19
        },
        {
          "output_type": "display_data",
          "data": {
            "text/plain": [
              "<Figure size 432x288 with 1 Axes>"
            ],
            "image/png": "[encoded data removed]"
          },
          "metadata": {
            "needs_background": "light"
          }
        }
      ]
    },
    {
      "cell_type": "markdown",
      "metadata": {
        "id": "dGqJ2dCFVYkM",
        "scrolled": false
      },
      "source": [
        "### Finetuning do Modelo A usando dados em português"
      ]
    },
    {
      "cell_type": "code",
      "source": [
        "#congelando a primeira camada - MODELO EM PT\n",
        "modeloPT.layers[2].trainlable = False \n",
        "\n",
        "\n",
        "def scheduler(epoch, lr):\n",
        "    if epoch <= 0:\n",
        "      return lr\n",
        "    else:\n",
        "      return np.round(lr * tf.math.exp(-0.075),4)\n",
        "\n",
        "callbacklr = tf.keras.callbacks.LearningRateScheduler(scheduler)\n",
        "\n",
        "\n",
        "\n",
        "\n",
        "modeloPT.compile(loss=keras.losses.BinaryCrossentropy(),\n",
        "                optimizer=keras.optimizers.Adam(learning_rate=0.00001),\n",
        "                metrics=[tf.keras.metrics.Precision(), tf.keras.metrics.Recall(), \"accuracy\"])\n",
        "\n",
        "modeloPT_hist_fine = modeloPT.fit(x = pt_X_train, y = pt_y_train, batch_size=batch_size, epochs=epochs, callbacks=callbacklr)"
      ],
      "metadata": {
        "colab": {
          "base_uri": "https://localhost:8080/"
        },
        "id": "A5Ylzg1QutSk",
        "outputId": "a1552b41-cb0d-41b8-f000-88ea75c8a4f1"
      },
      "execution_count": null,
      "outputs": [
        {
          "output_type": "stream",
          "name": "stdout",
          "text": [
            "Epoch 1/25\n",
            "532/532 [==============================] - 4s 5ms/step - loss: 0.0484 - precision_1: 0.9830 - recall_1: 0.9859 - accuracy: 0.9849 - lr: 1.0000e-05\n",
            "Epoch 2/25\n",
            "532/532 [==============================] - 3s 5ms/step - loss: 0.0426 - precision_1: 0.9821 - recall_1: 0.9881 - accuracy: 0.9855 - lr: 0.0000e+00\n",
            "Epoch 3/25\n",
            "532/532 [==============================] - 3s 5ms/step - loss: 0.0449 - precision_1: 0.9849 - recall_1: 0.9856 - accuracy: 0.9858 - lr: 0.0000e+00\n",
            "Epoch 4/25\n",
            "532/532 [==============================] - 3s 6ms/step - loss: 0.0396 - precision_1: 0.9815 - recall_1: 0.9915 - accuracy: 0.9868 - lr: 0.0000e+00\n",
            "Epoch 5/25\n",
            "532/532 [==============================] - 4s 7ms/step - loss: 0.0399 - precision_1: 0.9824 - recall_1: 0.9900 - accuracy: 0.9866 - lr: 0.0000e+00\n",
            "Epoch 6/25\n",
            "532/532 [==============================] - 3s 5ms/step - loss: 0.0426 - precision_1: 0.9805 - recall_1: 0.9888 - accuracy: 0.9851 - lr: 0.0000e+00\n",
            "Epoch 7/25\n",
            "532/532 [==============================] - 3s 5ms/step - loss: 0.0375 - precision_1: 0.9831 - recall_1: 0.9893 - accuracy: 0.9866 - lr: 0.0000e+00\n",
            "Epoch 8/25\n",
            "532/532 [==============================] - 3s 5ms/step - loss: 0.0374 - precision_1: 0.9857 - recall_1: 0.9888 - accuracy: 0.9876 - lr: 0.0000e+00\n",
            "Epoch 9/25\n",
            "532/532 [==============================] - 3s 5ms/step - loss: 0.0443 - precision_1: 0.9826 - recall_1: 0.9888 - accuracy: 0.9861 - lr: 0.0000e+00\n",
            "Epoch 10/25\n",
            "532/532 [==============================] - 3s 5ms/step - loss: 0.0413 - precision_1: 0.9837 - recall_1: 0.9864 - accuracy: 0.9855 - lr: 0.0000e+00\n",
            "Epoch 11/25\n",
            "532/532 [==============================] - 3s 5ms/step - loss: 0.0408 - precision_1: 0.9849 - recall_1: 0.9861 - accuracy: 0.9860 - lr: 0.0000e+00\n",
            "Epoch 12/25\n",
            "532/532 [==============================] - 3s 5ms/step - loss: 0.0372 - precision_1: 0.9852 - recall_1: 0.9895 - accuracy: 0.9878 - lr: 0.0000e+00\n",
            "Epoch 13/25\n",
            "532/532 [==============================] - 3s 5ms/step - loss: 0.0427 - precision_1: 0.9800 - recall_1: 0.9908 - accuracy: 0.9858 - lr: 0.0000e+00\n",
            "Epoch 14/25\n",
            "532/532 [==============================] - 3s 5ms/step - loss: 0.0376 - precision_1: 0.9852 - recall_1: 0.9893 - accuracy: 0.9876 - lr: 0.0000e+00\n",
            "Epoch 15/25\n",
            "532/532 [==============================] - 3s 6ms/step - loss: 0.0392 - precision_1: 0.9842 - recall_1: 0.9874 - accuracy: 0.9862 - lr: 0.0000e+00\n",
            "Epoch 16/25\n",
            "532/532 [==============================] - 3s 5ms/step - loss: 0.0354 - precision_1: 0.9890 - recall_1: 0.9874 - accuracy: 0.9886 - lr: 0.0000e+00\n",
            "Epoch 17/25\n",
            "532/532 [==============================] - 3s 5ms/step - loss: 0.0352 - precision_1: 0.9881 - recall_1: 0.9898 - accuracy: 0.9893 - lr: 0.0000e+00\n",
            "Epoch 18/25\n",
            "532/532 [==============================] - 3s 5ms/step - loss: 0.0359 - precision_1: 0.9841 - recall_1: 0.9920 - accuracy: 0.9884 - lr: 0.0000e+00\n",
            "Epoch 19/25\n",
            "532/532 [==============================] - 3s 5ms/step - loss: 0.0450 - precision_1: 0.9823 - recall_1: 0.9869 - accuracy: 0.9851 - lr: 0.0000e+00\n",
            "Epoch 20/25\n",
            "532/532 [==============================] - 3s 5ms/step - loss: 0.0327 - precision_1: 0.9871 - recall_1: 0.9903 - accuracy: 0.9891 - lr: 0.0000e+00\n",
            "Epoch 21/25\n",
            "532/532 [==============================] - 3s 5ms/step - loss: 0.0333 - precision_1: 0.9879 - recall_1: 0.9905 - accuracy: 0.9895 - lr: 0.0000e+00\n",
            "Epoch 22/25\n",
            "532/532 [==============================] - 3s 5ms/step - loss: 0.0367 - precision_1: 0.9860 - recall_1: 0.9908 - accuracy: 0.9887 - lr: 0.0000e+00\n",
            "Epoch 23/25\n",
            "532/532 [==============================] - 3s 5ms/step - loss: 0.0319 - precision_1: 0.9862 - recall_1: 0.9920 - accuracy: 0.9894 - lr: 0.0000e+00\n",
            "Epoch 24/25\n",
            "532/532 [==============================] - 3s 5ms/step - loss: 0.0305 - precision_1: 0.9884 - recall_1: 0.9910 - accuracy: 0.9900 - lr: 0.0000e+00\n",
            "Epoch 25/25\n",
            "532/532 [==============================] - 3s 5ms/step - loss: 0.0245 - precision_1: 0.9915 - recall_1: 0.9934 - accuracy: 0.9927 - lr: 0.0000e+00\n"
          ]
        }
      ]
    },
    {
      "cell_type": "code",
      "source": [
        "plt.plot(modeloPT_hist_fine.history['precision'])\n",
        "plt.plot(modeloPT_hist_fine.history['recall'])\n",
        "plt.legend([\"precision_pt\", \"recall_pt\", \"precision \", \"recall \"], loc=\"lower right\");"
      ],
      "metadata": {
        "id": "gPqllF_4yqCz"
      },
      "execution_count": null,
      "outputs": []
    }
  ],
  "metadata": {
    "accelerator": "GPU",
    "colab": {
      "provenance": []
    },
    "kernelspec": {
      "display_name": "Python 3 (ipykernel)",
      "language": "python",
      "name": "python3"
    },
    "language_info": {
      "codemirror_mode": {
        "name": "ipython",
        "version": 3
      },
      "file_extension": ".py",
      "mimetype": "text/x-python",
      "name": "python",
      "nbconvert_exporter": "python",
      "pygments_lexer": "ipython3",
      "version": "3.10.8"
    },
    "widgets": {
      "application/vnd.jupyter.widget-state+json": {
        "f987773ba80e49b3a1a18f9bf33ef82b": {
          "model_module": "@jupyter-widgets/controls",
          "model_name": "HBoxModel",
          "model_module_version": "1.5.0",
          "state": {
            "_dom_classes": [],
            "_model_module": "@jupyter-widgets/controls",
            "_model_module_version": "1.5.0",
            "_model_name": "HBoxModel",
            "_view_count": null,
            "_view_module": "@jupyter-widgets/controls",
            "_view_module_version": "1.5.0",
            "_view_name": "HBoxView",
            "box_style": "",
            "children": [
              "IPY_MODEL_60e318aefb3845b2acec39133b268b9e",
              "IPY_MODEL_b5e407eb483e40a0876b0394cdf040d1",
              "IPY_MODEL_a2c29a0feca24829a36a5d0e52fd54dd"
            ],
            "layout": "IPY_MODEL_2678c8eaa3bb4efc8dd167de6f34ac69"
          }
        },
        "60e318aefb3845b2acec39133b268b9e": {
          "model_module": "@jupyter-widgets/controls",
          "model_name": "HTMLModel",
          "model_module_version": "1.5.0",
          "state": {
            "_dom_classes": [],
            "_model_module": "@jupyter-widgets/controls",
            "_model_module_version": "1.5.0",
            "_model_name": "HTMLModel",
            "_view_count": null,
            "_view_module": "@jupyter-widgets/controls",
            "_view_module_version": "1.5.0",
            "_view_name": "HTMLView",
            "description": "",
            "description_tooltip": null,
            "layout": "IPY_MODEL_92ed2486e2a342ad917d869690ac2aa9",
            "placeholder": "​",
            "style": "IPY_MODEL_85a3c6473d7a45bc9df663dec9546691",
            "value": "Batches: 100%"
          }
        },
        "b5e407eb483e40a0876b0394cdf040d1": {
          "model_module": "@jupyter-widgets/controls",
          "model_name": "FloatProgressModel",
          "model_module_version": "1.5.0",
          "state": {
            "_dom_classes": [],
            "_model_module": "@jupyter-widgets/controls",
            "_model_module_version": "1.5.0",
            "_model_name": "FloatProgressModel",
            "_view_count": null,
            "_view_module": "@jupyter-widgets/controls",
            "_view_module_version": "1.5.0",
            "_view_name": "ProgressView",
            "bar_style": "success",
            "description": "",
            "description_tooltip": null,
            "layout": "IPY_MODEL_261610ab9f19438db113e22314862208",
            "max": 1250,
            "min": 0,
            "orientation": "horizontal",
            "style": "IPY_MODEL_470ae000684945beb0f47e3013cc66b3",
            "value": 1250
          }
        },
        "a2c29a0feca24829a36a5d0e52fd54dd": {
          "model_module": "@jupyter-widgets/controls",
          "model_name": "HTMLModel",
          "model_module_version": "1.5.0",
          "state": {
            "_dom_classes": [],
            "_model_module": "@jupyter-widgets/controls",
            "_model_module_version": "1.5.0",
            "_model_name": "HTMLModel",
            "_view_count": null,
            "_view_module": "@jupyter-widgets/controls",
            "_view_module_version": "1.5.0",
            "_view_name": "HTMLView",
            "description": "",
            "description_tooltip": null,
            "layout": "IPY_MODEL_9629f916894a4695add82bbe4e41dc35",
            "placeholder": "​",
            "style": "IPY_MODEL_baf43b2321624807a7809d1cbeb57f73",
            "value": " 1250/1250 [00:47&lt;00:00, 43.28it/s]"
          }
        },
        "2678c8eaa3bb4efc8dd167de6f34ac69": {
          "model_module": "@jupyter-widgets/base",
          "model_name": "LayoutModel",
          "model_module_version": "1.2.0",
          "state": {
            "_model_module": "@jupyter-widgets/base",
            "_model_module_version": "1.2.0",
            "_model_name": "LayoutModel",
            "_view_count": null,
            "_view_module": "@jupyter-widgets/base",
            "_view_module_version": "1.2.0",
            "_view_name": "LayoutView",
            "align_content": null,
            "align_items": null,
            "align_self": null,
            "border": null,
            "bottom": null,
            "display": null,
            "flex": null,
            "flex_flow": null,
            "grid_area": null,
            "grid_auto_columns": null,
            "grid_auto_flow": null,
            "grid_auto_rows": null,
            "grid_column": null,
            "grid_gap": null,
            "grid_row": null,
            "grid_template_areas": null,
            "grid_template_columns": null,
            "grid_template_rows": null,
            "height": null,
            "justify_content": null,
            "justify_items": null,
            "left": null,
            "margin": null,
            "max_height": null,
            "max_width": null,
            "min_height": null,
            "min_width": null,
            "object_fit": null,
            "object_position": null,
            "order": null,
            "overflow": null,
            "overflow_x": null,
            "overflow_y": null,
            "padding": null,
            "right": null,
            "top": null,
            "visibility": null,
            "width": null
          }
        },
        "92ed2486e2a342ad917d869690ac2aa9": {
          "model_module": "@jupyter-widgets/base",
          "model_name": "LayoutModel",
          "model_module_version": "1.2.0",
          "state": {
            "_model_module": "@jupyter-widgets/base",
            "_model_module_version": "1.2.0",
            "_model_name": "LayoutModel",
            "_view_count": null,
            "_view_module": "@jupyter-widgets/base",
            "_view_module_version": "1.2.0",
            "_view_name": "LayoutView",
            "align_content": null,
            "align_items": null,
            "align_self": null,
            "border": null,
            "bottom": null,
            "display": null,
            "flex": null,
            "flex_flow": null,
            "grid_area": null,
            "grid_auto_columns": null,
            "grid_auto_flow": null,
            "grid_auto_rows": null,
            "grid_column": null,
            "grid_gap": null,
            "grid_row": null,
            "grid_template_areas": null,
            "grid_template_columns": null,
            "grid_template_rows": null,
            "height": null,
            "justify_content": null,
            "justify_items": null,
            "left": null,
            "margin": null,
            "max_height": null,
            "max_width": null,
            "min_height": null,
            "min_width": null,
            "object_fit": null,
            "object_position": null,
            "order": null,
            "overflow": null,
            "overflow_x": null,
            "overflow_y": null,
            "padding": null,
            "right": null,
            "top": null,
            "visibility": null,
            "width": null
          }
        },
        "85a3c6473d7a45bc9df663dec9546691": {
          "model_module": "@jupyter-widgets/controls",
          "model_name": "DescriptionStyleModel",
          "model_module_version": "1.5.0",
          "state": {
            "_model_module": "@jupyter-widgets/controls",
            "_model_module_version": "1.5.0",
            "_model_name": "DescriptionStyleModel",
            "_view_count": null,
            "_view_module": "@jupyter-widgets/base",
            "_view_module_version": "1.2.0",
            "_view_name": "StyleView",
            "description_width": ""
          }
        },
        "261610ab9f19438db113e22314862208": {
          "model_module": "@jupyter-widgets/base",
          "model_name": "LayoutModel",
          "model_module_version": "1.2.0",
          "state": {
            "_model_module": "@jupyter-widgets/base",
            "_model_module_version": "1.2.0",
            "_model_name": "LayoutModel",
            "_view_count": null,
            "_view_module": "@jupyter-widgets/base",
            "_view_module_version": "1.2.0",
            "_view_name": "LayoutView",
            "align_content": null,
            "align_items": null,
            "align_self": null,
            "border": null,
            "bottom": null,
            "display": null,
            "flex": null,
            "flex_flow": null,
            "grid_area": null,
            "grid_auto_columns": null,
            "grid_auto_flow": null,
            "grid_auto_rows": null,
            "grid_column": null,
            "grid_gap": null,
            "grid_row": null,
            "grid_template_areas": null,
            "grid_template_columns": null,
            "grid_template_rows": null,
            "height": null,
            "justify_content": null,
            "justify_items": null,
            "left": null,
            "margin": null,
            "max_height": null,
            "max_width": null,
            "min_height": null,
            "min_width": null,
            "object_fit": null,
            "object_position": null,
            "order": null,
            "overflow": null,
            "overflow_x": null,
            "overflow_y": null,
            "padding": null,
            "right": null,
            "top": null,
            "visibility": null,
            "width": null
          }
        },
        "470ae000684945beb0f47e3013cc66b3": {
          "model_module": "@jupyter-widgets/controls",
          "model_name": "ProgressStyleModel",
          "model_module_version": "1.5.0",
          "state": {
            "_model_module": "@jupyter-widgets/controls",
            "_model_module_version": "1.5.0",
            "_model_name": "ProgressStyleModel",
            "_view_count": null,
            "_view_module": "@jupyter-widgets/base",
            "_view_module_version": "1.2.0",
            "_view_name": "StyleView",
            "bar_color": null,
            "description_width": ""
          }
        },
        "9629f916894a4695add82bbe4e41dc35": {
          "model_module": "@jupyter-widgets/base",
          "model_name": "LayoutModel",
          "model_module_version": "1.2.0",
          "state": {
            "_model_module": "@jupyter-widgets/base",
            "_model_module_version": "1.2.0",
            "_model_name": "LayoutModel",
            "_view_count": null,
            "_view_module": "@jupyter-widgets/base",
            "_view_module_version": "1.2.0",
            "_view_name": "LayoutView",
            "align_content": null,
            "align_items": null,
            "align_self": null,
            "border": null,
            "bottom": null,
            "display": null,
            "flex": null,
            "flex_flow": null,
            "grid_area": null,
            "grid_auto_columns": null,
            "grid_auto_flow": null,
            "grid_auto_rows": null,
            "grid_column": null,
            "grid_gap": null,
            "grid_row": null,
            "grid_template_areas": null,
            "grid_template_columns": null,
            "grid_template_rows": null,
            "height": null,
            "justify_content": null,
            "justify_items": null,
            "left": null,
            "margin": null,
            "max_height": null,
            "max_width": null,
            "min_height": null,
            "min_width": null,
            "object_fit": null,
            "object_position": null,
            "order": null,
            "overflow": null,
            "overflow_x": null,
            "overflow_y": null,
            "padding": null,
            "right": null,
            "top": null,
            "visibility": null,
            "width": null
          }
        },
        "baf43b2321624807a7809d1cbeb57f73": {
          "model_module": "@jupyter-widgets/controls",
          "model_name": "DescriptionStyleModel",
          "model_module_version": "1.5.0",
          "state": {
            "_model_module": "@jupyter-widgets/controls",
            "_model_module_version": "1.5.0",
            "_model_name": "DescriptionStyleModel",
            "_view_count": null,
            "_view_module": "@jupyter-widgets/base",
            "_view_module_version": "1.2.0",
            "_view_name": "StyleView",
            "description_width": ""
          }
        },
        "42e19879988a4971926f1eecd04247f1": {
          "model_module": "@jupyter-widgets/controls",
          "model_name": "HBoxModel",
          "model_module_version": "1.5.0",
          "state": {
            "_dom_classes": [],
            "_model_module": "@jupyter-widgets/controls",
            "_model_module_version": "1.5.0",
            "_model_name": "HBoxModel",
            "_view_count": null,
            "_view_module": "@jupyter-widgets/controls",
            "_view_module_version": "1.5.0",
            "_view_name": "HBoxView",
            "box_style": "",
            "children": [
              "IPY_MODEL_7b6598ba2a204e1d9948f7a626a2c161",
              "IPY_MODEL_cb3da71c8ab6406781ac4f6f658e5bad",
              "IPY_MODEL_f41c523b7a284177b7e00b33b395afc2"
            ],
            "layout": "IPY_MODEL_e1a3de2fb8644add9c6d01ef1f769e95"
          }
        },
        "7b6598ba2a204e1d9948f7a626a2c161": {
          "model_module": "@jupyter-widgets/controls",
          "model_name": "HTMLModel",
          "model_module_version": "1.5.0",
          "state": {
            "_dom_classes": [],
            "_model_module": "@jupyter-widgets/controls",
            "_model_module_version": "1.5.0",
            "_model_name": "HTMLModel",
            "_view_count": null,
            "_view_module": "@jupyter-widgets/controls",
            "_view_module_version": "1.5.0",
            "_view_name": "HTMLView",
            "description": "",
            "description_tooltip": null,
            "layout": "IPY_MODEL_c65fee014fb149148df419782149d31d",
            "placeholder": "​",
            "style": "IPY_MODEL_8bdf3220beb8444a849c841262453360",
            "value": "Batches: 100%"
          }
        },
        "cb3da71c8ab6406781ac4f6f658e5bad": {
          "model_module": "@jupyter-widgets/controls",
          "model_name": "FloatProgressModel",
          "model_module_version": "1.5.0",
          "state": {
            "_dom_classes": [],
            "_model_module": "@jupyter-widgets/controls",
            "_model_module_version": "1.5.0",
            "_model_name": "FloatProgressModel",
            "_view_count": null,
            "_view_module": "@jupyter-widgets/controls",
            "_view_module_version": "1.5.0",
            "_view_name": "ProgressView",
            "bar_style": "success",
            "description": "",
            "description_tooltip": null,
            "layout": "IPY_MODEL_512b4895555c477eb505788fecad19b4",
            "max": 1250,
            "min": 0,
            "orientation": "horizontal",
            "style": "IPY_MODEL_8569142d876a4a039ff51650ec665691",
            "value": 1250
          }
        },
        "f41c523b7a284177b7e00b33b395afc2": {
          "model_module": "@jupyter-widgets/controls",
          "model_name": "HTMLModel",
          "model_module_version": "1.5.0",
          "state": {
            "_dom_classes": [],
            "_model_module": "@jupyter-widgets/controls",
            "_model_module_version": "1.5.0",
            "_model_name": "HTMLModel",
            "_view_count": null,
            "_view_module": "@jupyter-widgets/controls",
            "_view_module_version": "1.5.0",
            "_view_name": "HTMLView",
            "description": "",
            "description_tooltip": null,
            "layout": "IPY_MODEL_f737370a41cb4d0c860a0b729fc71f26",
            "placeholder": "​",
            "style": "IPY_MODEL_8011bbdc589e45818ecbaa2e9b981433",
            "value": " 1250/1250 [00:41&lt;00:00, 54.28it/s]"
          }
        },
        "e1a3de2fb8644add9c6d01ef1f769e95": {
          "model_module": "@jupyter-widgets/base",
          "model_name": "LayoutModel",
          "model_module_version": "1.2.0",
          "state": {
            "_model_module": "@jupyter-widgets/base",
            "_model_module_version": "1.2.0",
            "_model_name": "LayoutModel",
            "_view_count": null,
            "_view_module": "@jupyter-widgets/base",
            "_view_module_version": "1.2.0",
            "_view_name": "LayoutView",
            "align_content": null,
            "align_items": null,
            "align_self": null,
            "border": null,
            "bottom": null,
            "display": null,
            "flex": null,
            "flex_flow": null,
            "grid_area": null,
            "grid_auto_columns": null,
            "grid_auto_flow": null,
            "grid_auto_rows": null,
            "grid_column": null,
            "grid_gap": null,
            "grid_row": null,
            "grid_template_areas": null,
            "grid_template_columns": null,
            "grid_template_rows": null,
            "height": null,
            "justify_content": null,
            "justify_items": null,
            "left": null,
            "margin": null,
            "max_height": null,
            "max_width": null,
            "min_height": null,
            "min_width": null,
            "object_fit": null,
            "object_position": null,
            "order": null,
            "overflow": null,
            "overflow_x": null,
            "overflow_y": null,
            "padding": null,
            "right": null,
            "top": null,
            "visibility": null,
            "width": null
          }
        },
        "c65fee014fb149148df419782149d31d": {
          "model_module": "@jupyter-widgets/base",
          "model_name": "LayoutModel",
          "model_module_version": "1.2.0",
          "state": {
            "_model_module": "@jupyter-widgets/base",
            "_model_module_version": "1.2.0",
            "_model_name": "LayoutModel",
            "_view_count": null,
            "_view_module": "@jupyter-widgets/base",
            "_view_module_version": "1.2.0",
            "_view_name": "LayoutView",
            "align_content": null,
            "align_items": null,
            "align_self": null,
            "border": null,
            "bottom": null,
            "display": null,
            "flex": null,
            "flex_flow": null,
            "grid_area": null,
            "grid_auto_columns": null,
            "grid_auto_flow": null,
            "grid_auto_rows": null,
            "grid_column": null,
            "grid_gap": null,
            "grid_row": null,
            "grid_template_areas": null,
            "grid_template_columns": null,
            "grid_template_rows": null,
            "height": null,
            "justify_content": null,
            "justify_items": null,
            "left": null,
            "margin": null,
            "max_height": null,
            "max_width": null,
            "min_height": null,
            "min_width": null,
            "object_fit": null,
            "object_position": null,
            "order": null,
            "overflow": null,
            "overflow_x": null,
            "overflow_y": null,
            "padding": null,
            "right": null,
            "top": null,
            "visibility": null,
            "width": null
          }
        },
        "8bdf3220beb8444a849c841262453360": {
          "model_module": "@jupyter-widgets/controls",
          "model_name": "DescriptionStyleModel",
          "model_module_version": "1.5.0",
          "state": {
            "_model_module": "@jupyter-widgets/controls",
            "_model_module_version": "1.5.0",
            "_model_name": "DescriptionStyleModel",
            "_view_count": null,
            "_view_module": "@jupyter-widgets/base",
            "_view_module_version": "1.2.0",
            "_view_name": "StyleView",
            "description_width": ""
          }
        },
        "512b4895555c477eb505788fecad19b4": {
          "model_module": "@jupyter-widgets/base",
          "model_name": "LayoutModel",
          "model_module_version": "1.2.0",
          "state": {
            "_model_module": "@jupyter-widgets/base",
            "_model_module_version": "1.2.0",
            "_model_name": "LayoutModel",
            "_view_count": null,
            "_view_module": "@jupyter-widgets/base",
            "_view_module_version": "1.2.0",
            "_view_name": "LayoutView",
            "align_content": null,
            "align_items": null,
            "align_self": null,
            "border": null,
            "bottom": null,
            "display": null,
            "flex": null,
            "flex_flow": null,
            "grid_area": null,
            "grid_auto_columns": null,
            "grid_auto_flow": null,
            "grid_auto_rows": null,
            "grid_column": null,
            "grid_gap": null,
            "grid_row": null,
            "grid_template_areas": null,
            "grid_template_columns": null,
            "grid_template_rows": null,
            "height": null,
            "justify_content": null,
            "justify_items": null,
            "left": null,
            "margin": null,
            "max_height": null,
            "max_width": null,
            "min_height": null,
            "min_width": null,
            "object_fit": null,
            "object_position": null,
            "order": null,
            "overflow": null,
            "overflow_x": null,
            "overflow_y": null,
            "padding": null,
            "right": null,
            "top": null,
            "visibility": null,
            "width": null
          }
        },
        "8569142d876a4a039ff51650ec665691": {
          "model_module": "@jupyter-widgets/controls",
          "model_name": "ProgressStyleModel",
          "model_module_version": "1.5.0",
          "state": {
            "_model_module": "@jupyter-widgets/controls",
            "_model_module_version": "1.5.0",
            "_model_name": "ProgressStyleModel",
            "_view_count": null,
            "_view_module": "@jupyter-widgets/base",
            "_view_module_version": "1.2.0",
            "_view_name": "StyleView",
            "bar_color": null,
            "description_width": ""
          }
        },
        "f737370a41cb4d0c860a0b729fc71f26": {
          "model_module": "@jupyter-widgets/base",
          "model_name": "LayoutModel",
          "model_module_version": "1.2.0",
          "state": {
            "_model_module": "@jupyter-widgets/base",
            "_model_module_version": "1.2.0",
            "_model_name": "LayoutModel",
            "_view_count": null,
            "_view_module": "@jupyter-widgets/base",
            "_view_module_version": "1.2.0",
            "_view_name": "LayoutView",
            "align_content": null,
            "align_items": null,
            "align_self": null,
            "border": null,
            "bottom": null,
            "display": null,
            "flex": null,
            "flex_flow": null,
            "grid_area": null,
            "grid_auto_columns": null,
            "grid_auto_flow": null,
            "grid_auto_rows": null,
            "grid_column": null,
            "grid_gap": null,
            "grid_row": null,
            "grid_template_areas": null,
            "grid_template_columns": null,
            "grid_template_rows": null,
            "height": null,
            "justify_content": null,
            "justify_items": null,
            "left": null,
            "margin": null,
            "max_height": null,
            "max_width": null,
            "min_height": null,
            "min_width": null,
            "object_fit": null,
            "object_position": null,
            "order": null,
            "overflow": null,
            "overflow_x": null,
            "overflow_y": null,
            "padding": null,
            "right": null,
            "top": null,
            "visibility": null,
            "width": null
          }
        },
        "8011bbdc589e45818ecbaa2e9b981433": {
          "model_module": "@jupyter-widgets/controls",
          "model_name": "DescriptionStyleModel",
          "model_module_version": "1.5.0",
          "state": {
            "_model_module": "@jupyter-widgets/controls",
            "_model_module_version": "1.5.0",
            "_model_name": "DescriptionStyleModel",
            "_view_count": null,
            "_view_module": "@jupyter-widgets/base",
            "_view_module_version": "1.2.0",
            "_view_name": "StyleView",
            "description_width": ""
          }
        }
      }
    }
  },
  "nbformat": 4,
  "nbformat_minor": 0
}